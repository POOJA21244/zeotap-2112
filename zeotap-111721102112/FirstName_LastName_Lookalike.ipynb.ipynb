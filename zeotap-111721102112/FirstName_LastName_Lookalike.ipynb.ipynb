{
 "cells": [
  {
   "cell_type": "code",
   "execution_count": 13,
   "metadata": {},
   "outputs": [
    {
     "name": "stdout",
     "output_type": "stream",
     "text": [
      "Lookalike.csv has been created.\n"
     ]
    }
   ],
   "source": [
    "import pandas as pd\n",
    "from sklearn.metrics.pairwise import cosine_similarity\n",
    "from sklearn.preprocessing import StandardScaler\n",
    "\n",
    "# Load the CSV files\n",
    "customers = pd.read_csv('Customers.csv')\n",
    "products = pd.read_csv('Products.csv')\n",
    "transactions = pd.read_csv('Transactions.csv')\n",
    "\n",
    "# Merge the data to create a customer profile\n",
    "merged_data = pd.merge(transactions, products, on='ProductID', how='inner')\n",
    "merged_data = pd.merge(merged_data, customers[['CustomerID', 'Region']], on='CustomerID', how='inner')\n",
    "\n",
    "# Aggregate data by customer\n",
    "customer_profile = merged_data.groupby('CustomerID').agg(\n",
    "    total_spent=('TotalValue', 'sum'),\n",
    "    purchase_count=('TransactionID', 'count'),\n",
    "    avg_transaction_value=('TotalValue', 'mean')\n",
    ").reset_index()\n",
    "\n",
    "# Add the most frequent category to the profile\n",
    "customer_profile['most_frequent_category'] = merged_data.groupby('CustomerID')['Category'].apply(lambda x: x.mode()[0]).reset_index(drop=True)\n",
    "\n",
    "# Add customer region to the profile\n",
    "customer_profile = pd.merge(customer_profile, customers[['CustomerID', 'Region']], on='CustomerID')\n",
    "\n",
    "# Features to consider for similarity computation\n",
    "features = ['total_spent', 'purchase_count', 'avg_transaction_value']\n",
    "\n",
    "# Handle missing values by filling NaN with the mean of the column\n",
    "customer_profile[features] = customer_profile[features].fillna(customer_profile[features].mean())\n",
    "\n",
    "# Standardize the features to improve cosine similarity computation\n",
    "scaler = StandardScaler()\n",
    "X = scaler.fit_transform(customer_profile[features])\n",
    "\n",
    "# Compute cosine similarity between customers\n",
    "similarity_matrix = cosine_similarity(X)\n",
    "\n",
    "# Prepare the result for the first 20 customers (C0001 - C0020)\n",
    "top_lookalikes = {}\n",
    "\n",
    "for i in range(20):  # For customers C0001 to C0020\n",
    "    customer_id = f'C{i+1:04d}'  # Generate customer ID like C0001, C0002, ...\n",
    "    similarity_scores = similarity_matrix[i]  # Similarity scores for the current customer\n",
    "    \n",
    "    # Pair up customers with their similarity score\n",
    "    similar_customers = [(customer_profile['CustomerID'][j], similarity_scores[j]) for j in range(len(similarity_scores)) if customer_profile['CustomerID'][j] != customer_id]\n",
    "    \n",
    "    # Sort similar customers based on similarity score and get the top 3\n",
    "    similar_customers.sort(key=lambda x: x[1], reverse=True)\n",
    "    top_lookalikes[customer_id] = similar_customers[:3]\n",
    "\n",
    "# Save the lookalike data to a CSV file\n",
    "lookalike_data = []\n",
    "for customer_id, lookalikes in top_lookalikes.items():\n",
    "    for similar_customer, score in lookalikes:\n",
    "        lookalike_data.append({'CustomerID': customer_id, 'LookalikeCustomerID': similar_customer, 'SimilarityScore': score})\n",
    "\n",
    "lookalike_df = pd.DataFrame(lookalike_data)\n",
    "lookalike_df.to_csv('Lookalike.csv', index=False)\n",
    "\n",
    "print(\"Lookalike.csv has been created.\")\n"
   ]
  },
  {
   "cell_type": "code",
   "execution_count": null,
   "metadata": {},
   "outputs": [],
   "source": []
  }
 ],
 "metadata": {
  "kernelspec": {
   "display_name": "Python 3",
   "language": "python",
   "name": "python3"
  },
  "language_info": {
   "codemirror_mode": {
    "name": "ipython",
    "version": 3
   },
   "file_extension": ".py",
   "mimetype": "text/x-python",
   "name": "python",
   "nbconvert_exporter": "python",
   "pygments_lexer": "ipython3",
   "version": "3.10.11"
  }
 },
 "nbformat": 4,
 "nbformat_minor": 2
}
